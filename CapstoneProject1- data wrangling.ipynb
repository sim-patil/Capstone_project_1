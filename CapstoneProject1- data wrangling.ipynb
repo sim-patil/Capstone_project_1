{
 "cells": [
  {
   "cell_type": "markdown",
   "metadata": {},
   "source": [
    "### Introduction:\n",
    "\n",
    "This project will analyze 911 emergency call data compiled from San Francisco metropolitan area and will conduct a hotspot analysis to determine areas of high call volume for violent crimes.\n",
    "\n",
    "The project will be developed keeping in mind about the potential users who can take an action to reduce the occurrence of the crimes and those could be San Francisco police department or related authorities. The project will help the authorities to know the crimes that have occurred over the time.\n",
    "\n",
    "The dataset used here is published by City and County of San Francisco available at https://data.sfgov.org/ It consists of the calls for service regarding criminal activity (unverified), from SFPD. Data covers the period 03/31/2016-present\n"
   ]
  },
  {
   "cell_type": "markdown",
   "metadata": {},
   "source": [
    "#### 1. Data Wrangling:\n",
    "In this notebook I will clean and unify messy and complex dataset for easy access and analysis.This will include manually converting data from one format into another for more convenient consumption and organization of the data."
   ]
  },
  {
   "cell_type": "code",
   "execution_count": 1,
   "metadata": {},
   "outputs": [],
   "source": [
    "# import requisite module\n",
    "import pandas as pd \n",
    "import json\n",
    "import seaborn as sns\n",
    "import numpy as np"
   ]
  },
  {
   "cell_type": "code",
   "execution_count": 2,
   "metadata": {},
   "outputs": [],
   "source": [
    "# read data from json \n",
    "json_data = pd.read_json('https://data.sfgov.org/resource/fjjd-jecq.json?$limit=2000000')"
   ]
  },
  {
   "cell_type": "markdown",
   "metadata": {},
   "source": [
    "Notably, this dataset has over two million rows from over two years of calls data. I initially tried reading in the data-set using the API but got only 1000 rows.\n",
    "\n",
    "After some research, I learned that right now SODA API has a limit of returning 1000 rows at a time when querying the dataset. To query more than 1000 rows, I added '$limit=' parameter to json url which will set a limit on how much I want to query from a dataset. "
   ]
  },
  {
   "cell_type": "code",
   "execution_count": 3,
   "metadata": {},
   "outputs": [],
   "source": [
    "# save data in pandas dataframe\n",
    "calls_for_service=pd.DataFrame(json_data)"
   ]
  },
  {
   "cell_type": "code",
   "execution_count": 4,
   "metadata": {},
   "outputs": [
    {
     "data": {
      "text/plain": [
       "(2000000, 14)"
      ]
     },
     "execution_count": 4,
     "metadata": {},
     "output_type": "execute_result"
    }
   ],
   "source": [
    "calls_for_service.shape"
   ]
  },
  {
   "cell_type": "code",
   "execution_count": 5,
   "metadata": {},
   "outputs": [
    {
     "data": {
      "text/html": [
       "<div>\n",
       "<style scoped>\n",
       "    .dataframe tbody tr th:only-of-type {\n",
       "        vertical-align: middle;\n",
       "    }\n",
       "\n",
       "    .dataframe tbody tr th {\n",
       "        vertical-align: top;\n",
       "    }\n",
       "\n",
       "    .dataframe thead th {\n",
       "        text-align: right;\n",
       "    }\n",
       "</style>\n",
       "<table border=\"1\" class=\"dataframe\">\n",
       "  <thead>\n",
       "    <tr style=\"text-align: right;\">\n",
       "      <th></th>\n",
       "      <th>address</th>\n",
       "      <th>address_type</th>\n",
       "      <th>agency_id</th>\n",
       "      <th>call_date</th>\n",
       "      <th>call_dttm</th>\n",
       "      <th>call_time</th>\n",
       "      <th>city</th>\n",
       "      <th>common_location</th>\n",
       "      <th>crime_id</th>\n",
       "      <th>disposition</th>\n",
       "      <th>offense_date</th>\n",
       "      <th>original_crimetype_name</th>\n",
       "      <th>report_date</th>\n",
       "      <th>state</th>\n",
       "    </tr>\n",
       "  </thead>\n",
       "  <tbody>\n",
       "    <tr>\n",
       "      <th>0</th>\n",
       "      <td>1500 Block Of Pine St</td>\n",
       "      <td>Premise Address</td>\n",
       "      <td>1</td>\n",
       "      <td>2016-09-20T00:00:00.000</td>\n",
       "      <td>2016-09-20T11:50:00.000</td>\n",
       "      <td>2018-11-19 11:50:00</td>\n",
       "      <td>San Francisco</td>\n",
       "      <td>NaN</td>\n",
       "      <td>162641608</td>\n",
       "      <td>REP</td>\n",
       "      <td>2016-09-20T00:00:00.000</td>\n",
       "      <td>Complaint Unkn</td>\n",
       "      <td>2016-09-20T00:00:00.000</td>\n",
       "      <td>CA</td>\n",
       "    </tr>\n",
       "    <tr>\n",
       "      <th>1</th>\n",
       "      <td>100 Block Of Erie St</td>\n",
       "      <td>Premise Address</td>\n",
       "      <td>1</td>\n",
       "      <td>2016-09-20T00:00:00.000</td>\n",
       "      <td>2016-09-20T12:36:00.000</td>\n",
       "      <td>2018-11-19 12:36:00</td>\n",
       "      <td>San Francisco</td>\n",
       "      <td>NaN</td>\n",
       "      <td>162641785</td>\n",
       "      <td>UTL</td>\n",
       "      <td>2016-09-20T00:00:00.000</td>\n",
       "      <td>909</td>\n",
       "      <td>2016-09-20T00:00:00.000</td>\n",
       "      <td>CA</td>\n",
       "    </tr>\n",
       "    <tr>\n",
       "      <th>2</th>\n",
       "      <td>900 Block Of Market St</td>\n",
       "      <td>Premise Address</td>\n",
       "      <td>1</td>\n",
       "      <td>2016-09-20T00:00:00.000</td>\n",
       "      <td>2016-09-20T14:01:00.000</td>\n",
       "      <td>2018-11-19 14:01:00</td>\n",
       "      <td>San Francisco</td>\n",
       "      <td>NaN</td>\n",
       "      <td>162642180</td>\n",
       "      <td>HAN</td>\n",
       "      <td>2016-09-20T00:00:00.000</td>\n",
       "      <td>Burglary</td>\n",
       "      <td>2016-09-20T00:00:00.000</td>\n",
       "      <td>CA</td>\n",
       "    </tr>\n",
       "    <tr>\n",
       "      <th>3</th>\n",
       "      <td>1900 Block Of Palou Av</td>\n",
       "      <td>Premise Address</td>\n",
       "      <td>1</td>\n",
       "      <td>2016-09-20T00:00:00.000</td>\n",
       "      <td>2016-09-20T14:30:00.000</td>\n",
       "      <td>2018-11-19 14:30:00</td>\n",
       "      <td>San Francisco</td>\n",
       "      <td>NaN</td>\n",
       "      <td>162642293</td>\n",
       "      <td>REP</td>\n",
       "      <td>2016-09-20T00:00:00.000</td>\n",
       "      <td>Burglary</td>\n",
       "      <td>2016-09-20T00:00:00.000</td>\n",
       "      <td>CA</td>\n",
       "    </tr>\n",
       "    <tr>\n",
       "      <th>4</th>\n",
       "      <td>Florida St/division St</td>\n",
       "      <td>Intersection</td>\n",
       "      <td>1</td>\n",
       "      <td>2016-09-20T00:00:00.000</td>\n",
       "      <td>2016-09-20T14:49:00.000</td>\n",
       "      <td>2018-11-19 14:49:00</td>\n",
       "      <td>San Francisco</td>\n",
       "      <td>NaN</td>\n",
       "      <td>162642379</td>\n",
       "      <td>HAN</td>\n",
       "      <td>2016-09-20T00:00:00.000</td>\n",
       "      <td>Encampment</td>\n",
       "      <td>2016-09-20T00:00:00.000</td>\n",
       "      <td>CA</td>\n",
       "    </tr>\n",
       "  </tbody>\n",
       "</table>\n",
       "</div>"
      ],
      "text/plain": [
       "                  address     address_type  agency_id  \\\n",
       "0   1500 Block Of Pine St  Premise Address          1   \n",
       "1    100 Block Of Erie St  Premise Address          1   \n",
       "2  900 Block Of Market St  Premise Address          1   \n",
       "3  1900 Block Of Palou Av  Premise Address          1   \n",
       "4  Florida St/division St     Intersection          1   \n",
       "\n",
       "                 call_date                call_dttm           call_time  \\\n",
       "0  2016-09-20T00:00:00.000  2016-09-20T11:50:00.000 2018-11-19 11:50:00   \n",
       "1  2016-09-20T00:00:00.000  2016-09-20T12:36:00.000 2018-11-19 12:36:00   \n",
       "2  2016-09-20T00:00:00.000  2016-09-20T14:01:00.000 2018-11-19 14:01:00   \n",
       "3  2016-09-20T00:00:00.000  2016-09-20T14:30:00.000 2018-11-19 14:30:00   \n",
       "4  2016-09-20T00:00:00.000  2016-09-20T14:49:00.000 2018-11-19 14:49:00   \n",
       "\n",
       "            city common_location   crime_id disposition  \\\n",
       "0  San Francisco             NaN  162641608         REP   \n",
       "1  San Francisco             NaN  162641785         UTL   \n",
       "2  San Francisco             NaN  162642180         HAN   \n",
       "3  San Francisco             NaN  162642293         REP   \n",
       "4  San Francisco             NaN  162642379         HAN   \n",
       "\n",
       "              offense_date original_crimetype_name              report_date  \\\n",
       "0  2016-09-20T00:00:00.000          Complaint Unkn  2016-09-20T00:00:00.000   \n",
       "1  2016-09-20T00:00:00.000                     909  2016-09-20T00:00:00.000   \n",
       "2  2016-09-20T00:00:00.000                Burglary  2016-09-20T00:00:00.000   \n",
       "3  2016-09-20T00:00:00.000                Burglary  2016-09-20T00:00:00.000   \n",
       "4  2016-09-20T00:00:00.000              Encampment  2016-09-20T00:00:00.000   \n",
       "\n",
       "  state  \n",
       "0    CA  \n",
       "1    CA  \n",
       "2    CA  \n",
       "3    CA  \n",
       "4    CA  "
      ]
     },
     "execution_count": 5,
     "metadata": {},
     "output_type": "execute_result"
    }
   ],
   "source": [
    "calls_for_service.head()"
   ]
  },
  {
   "cell_type": "markdown",
   "metadata": {},
   "source": [
    "Dataset has 2 million rows and 14 columns"
   ]
  },
  {
   "cell_type": "code",
   "execution_count": 6,
   "metadata": {
    "scrolled": true
   },
   "outputs": [
    {
     "name": "stdout",
     "output_type": "stream",
     "text": [
      "<class 'pandas.core.frame.DataFrame'>\n",
      "RangeIndex: 2000000 entries, 0 to 1999999\n",
      "Data columns (total 14 columns):\n",
      "address                    2000000 non-null object\n",
      "address_type               2000000 non-null object\n",
      "agency_id                  2000000 non-null int64\n",
      "call_date                  2000000 non-null object\n",
      "call_dttm                  2000000 non-null object\n",
      "call_time                  2000000 non-null datetime64[ns]\n",
      "city                       1944403 non-null object\n",
      "common_location            197653 non-null object\n",
      "crime_id                   2000000 non-null int64\n",
      "disposition                2000000 non-null object\n",
      "offense_date               2000000 non-null object\n",
      "original_crimetype_name    2000000 non-null object\n",
      "report_date                2000000 non-null object\n",
      "state                      2000000 non-null object\n",
      "dtypes: datetime64[ns](1), int64(2), object(11)\n",
      "memory usage: 213.6+ MB\n"
     ]
    }
   ],
   "source": [
    "calls_for_service.info(null_counts=True)"
   ]
  },
  {
   "cell_type": "code",
   "execution_count": 7,
   "metadata": {
    "scrolled": true
   },
   "outputs": [
    {
     "data": {
      "text/plain": [
       "address                          0\n",
       "address_type                     0\n",
       "agency_id                        0\n",
       "call_date                        0\n",
       "call_dttm                        0\n",
       "call_time                        0\n",
       "city                         55597\n",
       "common_location            1802347\n",
       "crime_id                         0\n",
       "disposition                      0\n",
       "offense_date                     0\n",
       "original_crimetype_name          0\n",
       "report_date                      0\n",
       "state                            0\n",
       "dtype: int64"
      ]
     },
     "execution_count": 7,
     "metadata": {},
     "output_type": "execute_result"
    }
   ],
   "source": [
    "#check for the null entries \n",
    "calls_for_service.isnull().sum()"
   ]
  },
  {
   "cell_type": "code",
   "execution_count": 8,
   "metadata": {},
   "outputs": [],
   "source": [
    "# drop column common_location as it has many null entries\n",
    "# drop unwanted columns call_date, call_time and agency_id\n",
    "calls_for_service = calls_for_service.drop(['common_location','call_time','call_date','agency_id'], axis=1)"
   ]
  },
  {
   "cell_type": "code",
   "execution_count": 9,
   "metadata": {},
   "outputs": [],
   "source": [
    "# drop rows with null City values\n",
    "calls_for_service['city'].replace('', np.nan, inplace=True)\n",
    "calls_for_service.dropna(subset=['city'], inplace=True)"
   ]
  },
  {
   "cell_type": "code",
   "execution_count": 10,
   "metadata": {
    "scrolled": true
   },
   "outputs": [
    {
     "data": {
      "text/plain": [
       "address                    0\n",
       "address_type               0\n",
       "call_dttm                  0\n",
       "city                       0\n",
       "crime_id                   0\n",
       "disposition                0\n",
       "offense_date               0\n",
       "original_crimetype_name    0\n",
       "report_date                0\n",
       "state                      0\n",
       "dtype: int64"
      ]
     },
     "execution_count": 10,
     "metadata": {},
     "output_type": "execute_result"
    }
   ],
   "source": [
    "# check the null values again after deleting the rows from city column\n",
    "calls_for_service.isnull().sum()"
   ]
  },
  {
   "cell_type": "markdown",
   "metadata": {},
   "source": [
    "Observe that there are no NULL values in city column anymore. \n",
    "\n",
    "After taking care of Null values, I would now want to clean the data by removing white spaces,special characters which is largly observed in original_crimetype_name column.\n",
    "\n",
    "Column Original_crimetype_name in above dataframe contain crimetype name and some radio codes. Radio codes are brevity codes used in voice communication by law enforcement. Later in this notebook, I will be merging radio codes excel file with above calls_for_service dataframe to replace the radio codes with it's more understandable meaning."
   ]
  },
  {
   "cell_type": "code",
   "execution_count": 11,
   "metadata": {},
   "outputs": [],
   "source": [
    "# change the datatype of call_dttm column\n",
    "calls_for_service['call_dttm'] = pd.to_datetime(calls_for_service['call_dttm'])"
   ]
  },
  {
   "cell_type": "code",
   "execution_count": 12,
   "metadata": {},
   "outputs": [],
   "source": [
    "# Remove the white spaces,special characters from the original crime types values\n",
    "calls_for_service['original_crimetype_name'].str.strip()\n",
    "calls_for_service['original_crimetype_name'] = calls_for_service['original_crimetype_name'].map(lambda x: x.lstrip('e`&[***~ +-\".,//\\\\0').rstrip(' ***.\"'))\n",
    "\n",
    "# Replace misspelled original crime types with correct values\n",
    "calls_for_service['original_crimetype_name'] = calls_for_service['original_crimetype_name'].replace(to_replace=['Yelinng','Yelling Male','Yeller','Yelling Man','Yelling Off Balcony','Yelling/aggressive'], value='Yelling', regex=True)\n",
    "calls_for_service['original_crimetype_name'] = calls_for_service['original_crimetype_name'].replace(to_replace=['Suspicious person'], value='Suspicious Person', regex=True)\n",
    "calls_for_service['original_crimetype_name'] = calls_for_service['original_crimetype_name'].replace(to_replace=['Yel Zone','Yel Zn','Yel Grn Zn','Yz','Yello Zone','Yellow Zne','Yz,gz,rz','Yzone','Yellow Zone,gz,rz','Yellow Zoneone'], value='Yellow Zone', regex=True)\n",
    "calls_for_service['original_crimetype_name'] = calls_for_service['original_crimetype_name'].replace(to_replace=['211cj Veh','211 Poss','Poss 211','211 Cold','211 Susp','211 Attempt','211veh Poss'], value='Robbery', regex=True)\n",
    "calls_for_service.loc[calls_for_service['original_crimetype_name'].str.contains('152'), 'original_crimetype_name'] = '152'\n",
    "calls_for_service.loc[calls_for_service['original_crimetype_name'].str.contains('1030'), 'original_crimetype_name'] = '10-30'\n",
    "calls_for_service.loc[calls_for_service['original_crimetype_name'].str.contains('207'), 'original_crimetype_name'] = '207'\n",
    "calls_for_service.loc[calls_for_service['original_crimetype_name'].str.contains('212'), 'original_crimetype_name'] = '212'\n",
    "calls_for_service.loc[calls_for_service['original_crimetype_name'].str.contains('7,2,46'), 'original_crimetype_name'] = '7.2.46'\n",
    "calls_for_service.loc[calls_for_service['original_crimetype_name'].str.contains('Wz'), 'original_crimetype_name'] = '7.2.27'\n",
    "calls_for_service.loc[calls_for_service['original_crimetype_name'].str.contains('22500e'), 'original_crimetype_name'] = '22500e'\n",
    "calls_for_service.loc[calls_for_service['original_crimetype_name'].str.contains('459'), 'original_crimetype_name'] = '459'\n",
    "calls_for_service.loc[calls_for_service['original_crimetype_name'].str.contains('240'), 'original_crimetype_name'] = '240'\n",
    "calls_for_service.loc[calls_for_service['original_crimetype_name'].str.contains('221'), 'original_crimetype_name'] = '221'\n",
    "calls_for_service.loc[calls_for_service['original_crimetype_name'].str.contains('261'), 'original_crimetype_name'] = '261'\n",
    "calls_for_service.loc[calls_for_service['original_crimetype_name'].str.contains('245'), 'original_crimetype_name'] = '245'\n"
   ]
  },
  {
   "cell_type": "code",
   "execution_count": 13,
   "metadata": {},
   "outputs": [],
   "source": [
    "# Count the occurence of each crime type\n",
    "data_by_city_crime=calls_for_service.groupby(['original_crimetype_name']).size().reset_index(name='count')\n",
    "#data_by_city_crime"
   ]
  },
  {
   "cell_type": "code",
   "execution_count": 14,
   "metadata": {},
   "outputs": [
    {
     "data": {
      "text/plain": [
       "(1944362, 10)"
      ]
     },
     "execution_count": 14,
     "metadata": {},
     "output_type": "execute_result"
    }
   ],
   "source": [
    "# Replace Null values of original crimetype with Nan and then drop the rows having nan\n",
    "calls_for_service['original_crimetype_name'].replace('', np.nan, inplace=True)\n",
    "calls_for_service.dropna(subset=['original_crimetype_name'], inplace=True)\n",
    "calls_for_service.shape"
   ]
  },
  {
   "cell_type": "code",
   "execution_count": 15,
   "metadata": {
    "scrolled": true
   },
   "outputs": [
    {
     "name": "stdout",
     "output_type": "stream",
     "text": [
      "<class 'pandas.core.frame.DataFrame'>\n",
      "RangeIndex: 193 entries, 0 to 192\n",
      "Data columns (total 2 columns):\n",
      "original_crimetype_name    193 non-null object\n",
      "Meaning                    193 non-null object\n",
      "dtypes: object(2)\n",
      "memory usage: 3.1+ KB\n"
     ]
    }
   ],
   "source": [
    "# read another exel file which has radio codes \n",
    "radio_code_xl = pd.read_excel(\"Radio_Codes_2016.xlsx\")\n",
    "radio_code = pd.DataFrame(radio_code_xl)\n",
    "radio_code.info()"
   ]
  },
  {
   "cell_type": "code",
   "execution_count": 16,
   "metadata": {},
   "outputs": [],
   "source": [
    "# replace radio codes mentioned in original_crimetype_name column with radio codes meaning from radio code data frame\n",
    "calls_for_service['original_crimetype_name'] = calls_for_service['original_crimetype_name'].astype(str)\n",
    "radio_code['original_crimetype_name']= radio_code['original_crimetype_name'].astype(str)\n",
    "radio_code['Meaning']= radio_code['Meaning'].astype(str)\n",
    "calls_for_service['original_crimetype_name'] = calls_for_service['original_crimetype_name'].map(radio_code.set_index('original_crimetype_name')['Meaning']).fillna(calls_for_service['original_crimetype_name'])"
   ]
  },
  {
   "cell_type": "code",
   "execution_count": 17,
   "metadata": {
    "scrolled": true
   },
   "outputs": [
    {
     "name": "stdout",
     "output_type": "stream",
     "text": [
      "Stored 'calls_for_service' (DataFrame)\n"
     ]
    }
   ],
   "source": [
    "calls_for_service.head()\n",
    "# store cleaned dataframe to use in next step of the analysis\n",
    "%store calls_for_service"
   ]
  },
  {
   "cell_type": "markdown",
   "metadata": {},
   "source": [
    "Observe that original_crimetype_name in second row was 909 and is now been replaced by 'Interview a citizen' from radio code dataframe. This will now help to seggregate the crimes by city."
   ]
  },
  {
   "cell_type": "code",
   "execution_count": 18,
   "metadata": {},
   "outputs": [
    {
     "name": "stdout",
     "output_type": "stream",
     "text": [
      "Stored 'data_by_city' (DataFrame)\n"
     ]
    }
   ],
   "source": [
    "# count the crimes per city\n",
    "data_by_city=calls_for_service.groupby(['city']).size().reset_index(name='count')\n",
    "data_by_city\n",
    "# store dataframe to use in next step of the analysis\n",
    "%store data_by_city"
   ]
  },
  {
   "cell_type": "markdown",
   "metadata": {},
   "source": [
    "For personal interest, I want to know the top 25 crimes called for the service."
   ]
  },
  {
   "cell_type": "code",
   "execution_count": 19,
   "metadata": {
    "scrolled": true
   },
   "outputs": [
    {
     "data": {
      "text/html": [
       "<div>\n",
       "<style scoped>\n",
       "    .dataframe tbody tr th:only-of-type {\n",
       "        vertical-align: middle;\n",
       "    }\n",
       "\n",
       "    .dataframe tbody tr th {\n",
       "        vertical-align: top;\n",
       "    }\n",
       "\n",
       "    .dataframe thead th {\n",
       "        text-align: right;\n",
       "    }\n",
       "</style>\n",
       "<table border=\"1\" class=\"dataframe\">\n",
       "  <thead>\n",
       "    <tr style=\"text-align: right;\">\n",
       "      <th></th>\n",
       "      <th>original_crimetype_name</th>\n",
       "      <th>count</th>\n",
       "    </tr>\n",
       "  </thead>\n",
       "  <tbody>\n",
       "    <tr>\n",
       "      <th>10595</th>\n",
       "      <td>Passing Call</td>\n",
       "      <td>222658</td>\n",
       "    </tr>\n",
       "    <tr>\n",
       "      <th>14391</th>\n",
       "      <td>Traffic Stop</td>\n",
       "      <td>209316</td>\n",
       "    </tr>\n",
       "    <tr>\n",
       "      <th>14025</th>\n",
       "      <td>Suspicious Person</td>\n",
       "      <td>104311</td>\n",
       "    </tr>\n",
       "    <tr>\n",
       "      <th>8327</th>\n",
       "      <td>Homeless Complaint</td>\n",
       "      <td>101908</td>\n",
       "    </tr>\n",
       "    <tr>\n",
       "      <th>342</th>\n",
       "      <td>22500e</td>\n",
       "      <td>80776</td>\n",
       "    </tr>\n",
       "    <tr>\n",
       "      <th>9858</th>\n",
       "      <td>Muni Inspection</td>\n",
       "      <td>64291</td>\n",
       "    </tr>\n",
       "    <tr>\n",
       "      <th>5061</th>\n",
       "      <td>Audible Alarm</td>\n",
       "      <td>58038</td>\n",
       "    </tr>\n",
       "    <tr>\n",
       "      <th>15621</th>\n",
       "      <td>Well Being Check</td>\n",
       "      <td>47896</td>\n",
       "    </tr>\n",
       "    <tr>\n",
       "      <th>14027</th>\n",
       "      <td>Suspicious Vehicle</td>\n",
       "      <td>46995</td>\n",
       "    </tr>\n",
       "    <tr>\n",
       "      <th>7647</th>\n",
       "      <td>Fight No Weapon</td>\n",
       "      <td>42369</td>\n",
       "    </tr>\n",
       "    <tr>\n",
       "      <th>14485</th>\n",
       "      <td>Trespasser</td>\n",
       "      <td>40260</td>\n",
       "    </tr>\n",
       "    <tr>\n",
       "      <th>10103</th>\n",
       "      <td>Noise Nuisance</td>\n",
       "      <td>34476</td>\n",
       "    </tr>\n",
       "    <tr>\n",
       "      <th>5079</th>\n",
       "      <td>Auto Boost / Strip</td>\n",
       "      <td>33733</td>\n",
       "    </tr>\n",
       "    <tr>\n",
       "      <th>9658</th>\n",
       "      <td>Mentally Disturbed</td>\n",
       "      <td>26377</td>\n",
       "    </tr>\n",
       "    <tr>\n",
       "      <th>11042</th>\n",
       "      <td>Poss</td>\n",
       "      <td>26034</td>\n",
       "    </tr>\n",
       "    <tr>\n",
       "      <th>9647</th>\n",
       "      <td>Meet W/citizen</td>\n",
       "      <td>25729</td>\n",
       "    </tr>\n",
       "    <tr>\n",
       "      <th>7131</th>\n",
       "      <td>Dw</td>\n",
       "      <td>24527</td>\n",
       "    </tr>\n",
       "    <tr>\n",
       "      <th>4696</th>\n",
       "      <td>Assault / Battery</td>\n",
       "      <td>23401</td>\n",
       "    </tr>\n",
       "    <tr>\n",
       "      <th>10808</th>\n",
       "      <td>Petty Theft</td>\n",
       "      <td>22946</td>\n",
       "    </tr>\n",
       "    <tr>\n",
       "      <th>343</th>\n",
       "      <td>22500f</td>\n",
       "      <td>21864</td>\n",
       "    </tr>\n",
       "    <tr>\n",
       "      <th>14386</th>\n",
       "      <td>Traf Violation Cite</td>\n",
       "      <td>20168</td>\n",
       "    </tr>\n",
       "    <tr>\n",
       "      <th>6264</th>\n",
       "      <td>Complaint Unkn</td>\n",
       "      <td>19733</td>\n",
       "    </tr>\n",
       "    <tr>\n",
       "      <th>5654</th>\n",
       "      <td>Burglary</td>\n",
       "      <td>14419</td>\n",
       "    </tr>\n",
       "    <tr>\n",
       "      <th>12487</th>\n",
       "      <td>Rep</td>\n",
       "      <td>14183</td>\n",
       "    </tr>\n",
       "    <tr>\n",
       "      <th>14264</th>\n",
       "      <td>Threats / Harassment</td>\n",
       "      <td>13916</td>\n",
       "    </tr>\n",
       "  </tbody>\n",
       "</table>\n",
       "</div>"
      ],
      "text/plain": [
       "      original_crimetype_name   count\n",
       "10595            Passing Call  222658\n",
       "14391            Traffic Stop  209316\n",
       "14025       Suspicious Person  104311\n",
       "8327       Homeless Complaint  101908\n",
       "342                    22500e   80776\n",
       "9858          Muni Inspection   64291\n",
       "5061            Audible Alarm   58038\n",
       "15621        Well Being Check   47896\n",
       "14027      Suspicious Vehicle   46995\n",
       "7647          Fight No Weapon   42369\n",
       "14485              Trespasser   40260\n",
       "10103          Noise Nuisance   34476\n",
       "5079       Auto Boost / Strip   33733\n",
       "9658       Mentally Disturbed   26377\n",
       "11042                    Poss   26034\n",
       "9647           Meet W/citizen   25729\n",
       "7131                       Dw   24527\n",
       "4696        Assault / Battery   23401\n",
       "10808             Petty Theft   22946\n",
       "343                    22500f   21864\n",
       "14386     Traf Violation Cite   20168\n",
       "6264           Complaint Unkn   19733\n",
       "5654                 Burglary   14419\n",
       "12487                     Rep   14183\n",
       "14264    Threats / Harassment   13916"
      ]
     },
     "execution_count": 19,
     "metadata": {},
     "output_type": "execute_result"
    }
   ],
   "source": [
    "# display the top 25 crimes \n",
    "data_by_city_crime.sort_values('count',ascending=False).head(25)"
   ]
  },
  {
   "cell_type": "markdown",
   "metadata": {},
   "source": [
    "Although, I am interested only in violent crime data,it is good to know about the top 25 crimes for which SFPD receive calls.\n",
    "It can be observed that there are no violent crimes listed in top 25 crimes list ( which is a good sign though)."
   ]
  },
  {
   "cell_type": "code",
   "execution_count": 20,
   "metadata": {},
   "outputs": [
    {
     "name": "stdout",
     "output_type": "stream",
     "text": [
      "Stored 'calls_for_violent_crimes' (DataFrame)\n"
     ]
    }
   ],
   "source": [
    "# Extract the calls made to report violent crime \n",
    "calls_for_violent_crimes= calls_for_service.loc[(calls_for_service['original_crimetype_name'] == 'Homicide')| (calls_for_service['original_crimetype_name'] == 'Robbery') | (calls_for_service['original_crimetype_name'] == 'Aggravated Assault/ADW') | (calls_for_service['original_crimetype_name'] == 'Rape/Sexual Assault')]\n",
    "%store calls_for_violent_crimes"
   ]
  },
  {
   "cell_type": "markdown",
   "metadata": {},
   "source": [
    "After cleaning the dataset, next step would be to map and plot crime data to get better insite."
   ]
  },
  {
   "cell_type": "code",
   "execution_count": null,
   "metadata": {},
   "outputs": [],
   "source": []
  }
 ],
 "metadata": {
  "kernelspec": {
   "display_name": "Python 3",
   "language": "python",
   "name": "python3"
  },
  "language_info": {
   "codemirror_mode": {
    "name": "ipython",
    "version": 3
   },
   "file_extension": ".py",
   "mimetype": "text/x-python",
   "name": "python",
   "nbconvert_exporter": "python",
   "pygments_lexer": "ipython3",
   "version": "3.6.5"
  }
 },
 "nbformat": 4,
 "nbformat_minor": 2
}
