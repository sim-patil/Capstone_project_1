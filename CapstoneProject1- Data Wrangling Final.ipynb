{
 "cells": [
  {
   "cell_type": "markdown",
   "metadata": {},
   "source": [
    "### Introduction:\n",
    "\n",
    "This project will analyze 911 emergency call data compiled from San Francisco metropolitan area and will conduct a hotspot analysis to determine areas of high call volume for violent crimes.\n",
    "\n",
    "The project will be developed keeping in mind about the potential users who can take an action to reduce the occurrence of the crimes and those could be San Francisco police department or related authorities. The project will help the authorities to know the crimes that have occurred over the time.\n",
    "\n",
    "The dataset used here is published by City and County of San Francisco available at https://data.sfgov.org/ It consists of the calls for service regarding criminal activity (unverified), from SFPD. Data covers the period 03/31/2016-present\n"
   ]
  },
  {
   "cell_type": "markdown",
   "metadata": {},
   "source": [
    "#### 1. Data Wrangling:\n",
    "In this notebook I will clean and unify messy and complex dataset for easy access and analysis.This will include manually converting data from one format into another for more convenient consumption and organization of the data."
   ]
  },
  {
   "cell_type": "code",
   "execution_count": 1,
   "metadata": {},
   "outputs": [],
   "source": [
    "# import requisite module\n",
    "import pandas as pd \n",
    "import json\n",
    "import seaborn as sns\n",
    "import numpy as np"
   ]
  },
  {
   "cell_type": "code",
   "execution_count": 2,
   "metadata": {},
   "outputs": [],
   "source": [
    "# read data from json \n",
    "json_data = pd.read_json('https://data.sfgov.org/resource/fjjd-jecq.json?$limit=3000000')"
   ]
  },
  {
   "cell_type": "markdown",
   "metadata": {},
   "source": [
    "Notably, this dataset has over two million rows from over two years of calls data. I initially tried reading in the data-set using the API but got only 1000 rows.\n",
    "\n",
    "After some research, I learned that right now SODA API has a limit of returning 1000 rows at a time when querying the dataset. To query more than 1000 rows, I added '$limit=' parameter to json url which will set a limit on how much I want to query from a dataset. "
   ]
  },
  {
   "cell_type": "code",
   "execution_count": 3,
   "metadata": {},
   "outputs": [],
   "source": [
    "# save data in pandas dataframe\n",
    "calls_for_service=pd.DataFrame(json_data)"
   ]
  },
  {
   "cell_type": "code",
   "execution_count": 4,
   "metadata": {},
   "outputs": [
    {
     "data": {
      "text/plain": [
       "(2277316, 14)"
      ]
     },
     "execution_count": 4,
     "metadata": {},
     "output_type": "execute_result"
    }
   ],
   "source": [
    "calls_for_service.shape"
   ]
  },
  {
   "cell_type": "code",
   "execution_count": 5,
   "metadata": {},
   "outputs": [
    {
     "data": {
      "text/html": [
       "<div>\n",
       "<style scoped>\n",
       "    .dataframe tbody tr th:only-of-type {\n",
       "        vertical-align: middle;\n",
       "    }\n",
       "\n",
       "    .dataframe tbody tr th {\n",
       "        vertical-align: top;\n",
       "    }\n",
       "\n",
       "    .dataframe thead th {\n",
       "        text-align: right;\n",
       "    }\n",
       "</style>\n",
       "<table border=\"1\" class=\"dataframe\">\n",
       "  <thead>\n",
       "    <tr style=\"text-align: right;\">\n",
       "      <th></th>\n",
       "      <th>address</th>\n",
       "      <th>address_type</th>\n",
       "      <th>agency_id</th>\n",
       "      <th>call_date</th>\n",
       "      <th>call_dttm</th>\n",
       "      <th>call_time</th>\n",
       "      <th>city</th>\n",
       "      <th>common_location</th>\n",
       "      <th>crime_id</th>\n",
       "      <th>disposition</th>\n",
       "      <th>offense_date</th>\n",
       "      <th>original_crimetype_name</th>\n",
       "      <th>report_date</th>\n",
       "      <th>state</th>\n",
       "    </tr>\n",
       "  </thead>\n",
       "  <tbody>\n",
       "    <tr>\n",
       "      <th>0</th>\n",
       "      <td>1500 Block Of Pine St</td>\n",
       "      <td>Premise Address</td>\n",
       "      <td>1</td>\n",
       "      <td>2016-09-20T00:00:00.000</td>\n",
       "      <td>2016-09-20T11:50:00.000</td>\n",
       "      <td>2019-01-23 11:50:00</td>\n",
       "      <td>San Francisco</td>\n",
       "      <td>NaN</td>\n",
       "      <td>162641608</td>\n",
       "      <td>REP</td>\n",
       "      <td>2016-09-20T00:00:00.000</td>\n",
       "      <td>Complaint Unkn</td>\n",
       "      <td>2016-09-20T00:00:00.000</td>\n",
       "      <td>CA</td>\n",
       "    </tr>\n",
       "    <tr>\n",
       "      <th>1</th>\n",
       "      <td>100 Block Of Erie St</td>\n",
       "      <td>Premise Address</td>\n",
       "      <td>1</td>\n",
       "      <td>2016-09-20T00:00:00.000</td>\n",
       "      <td>2016-09-20T12:36:00.000</td>\n",
       "      <td>2019-01-23 12:36:00</td>\n",
       "      <td>San Francisco</td>\n",
       "      <td>NaN</td>\n",
       "      <td>162641785</td>\n",
       "      <td>UTL</td>\n",
       "      <td>2016-09-20T00:00:00.000</td>\n",
       "      <td>909</td>\n",
       "      <td>2016-09-20T00:00:00.000</td>\n",
       "      <td>CA</td>\n",
       "    </tr>\n",
       "    <tr>\n",
       "      <th>2</th>\n",
       "      <td>900 Block Of Market St</td>\n",
       "      <td>Premise Address</td>\n",
       "      <td>1</td>\n",
       "      <td>2016-09-20T00:00:00.000</td>\n",
       "      <td>2016-09-20T14:01:00.000</td>\n",
       "      <td>2019-01-23 14:01:00</td>\n",
       "      <td>San Francisco</td>\n",
       "      <td>NaN</td>\n",
       "      <td>162642180</td>\n",
       "      <td>HAN</td>\n",
       "      <td>2016-09-20T00:00:00.000</td>\n",
       "      <td>Burglary</td>\n",
       "      <td>2016-09-20T00:00:00.000</td>\n",
       "      <td>CA</td>\n",
       "    </tr>\n",
       "    <tr>\n",
       "      <th>3</th>\n",
       "      <td>1900 Block Of Palou Av</td>\n",
       "      <td>Premise Address</td>\n",
       "      <td>1</td>\n",
       "      <td>2016-09-20T00:00:00.000</td>\n",
       "      <td>2016-09-20T14:30:00.000</td>\n",
       "      <td>2019-01-23 14:30:00</td>\n",
       "      <td>San Francisco</td>\n",
       "      <td>NaN</td>\n",
       "      <td>162642293</td>\n",
       "      <td>REP</td>\n",
       "      <td>2016-09-20T00:00:00.000</td>\n",
       "      <td>Burglary</td>\n",
       "      <td>2016-09-20T00:00:00.000</td>\n",
       "      <td>CA</td>\n",
       "    </tr>\n",
       "    <tr>\n",
       "      <th>4</th>\n",
       "      <td>Florida St/division St</td>\n",
       "      <td>Intersection</td>\n",
       "      <td>1</td>\n",
       "      <td>2016-09-20T00:00:00.000</td>\n",
       "      <td>2016-09-20T14:49:00.000</td>\n",
       "      <td>2019-01-23 14:49:00</td>\n",
       "      <td>San Francisco</td>\n",
       "      <td>NaN</td>\n",
       "      <td>162642379</td>\n",
       "      <td>HAN</td>\n",
       "      <td>2016-09-20T00:00:00.000</td>\n",
       "      <td>Encampment</td>\n",
       "      <td>2016-09-20T00:00:00.000</td>\n",
       "      <td>CA</td>\n",
       "    </tr>\n",
       "  </tbody>\n",
       "</table>\n",
       "</div>"
      ],
      "text/plain": [
       "                  address     address_type  agency_id  \\\n",
       "0   1500 Block Of Pine St  Premise Address          1   \n",
       "1    100 Block Of Erie St  Premise Address          1   \n",
       "2  900 Block Of Market St  Premise Address          1   \n",
       "3  1900 Block Of Palou Av  Premise Address          1   \n",
       "4  Florida St/division St     Intersection          1   \n",
       "\n",
       "                 call_date                call_dttm           call_time  \\\n",
       "0  2016-09-20T00:00:00.000  2016-09-20T11:50:00.000 2019-01-23 11:50:00   \n",
       "1  2016-09-20T00:00:00.000  2016-09-20T12:36:00.000 2019-01-23 12:36:00   \n",
       "2  2016-09-20T00:00:00.000  2016-09-20T14:01:00.000 2019-01-23 14:01:00   \n",
       "3  2016-09-20T00:00:00.000  2016-09-20T14:30:00.000 2019-01-23 14:30:00   \n",
       "4  2016-09-20T00:00:00.000  2016-09-20T14:49:00.000 2019-01-23 14:49:00   \n",
       "\n",
       "            city common_location   crime_id disposition  \\\n",
       "0  San Francisco             NaN  162641608         REP   \n",
       "1  San Francisco             NaN  162641785         UTL   \n",
       "2  San Francisco             NaN  162642180         HAN   \n",
       "3  San Francisco             NaN  162642293         REP   \n",
       "4  San Francisco             NaN  162642379         HAN   \n",
       "\n",
       "              offense_date original_crimetype_name              report_date  \\\n",
       "0  2016-09-20T00:00:00.000          Complaint Unkn  2016-09-20T00:00:00.000   \n",
       "1  2016-09-20T00:00:00.000                     909  2016-09-20T00:00:00.000   \n",
       "2  2016-09-20T00:00:00.000                Burglary  2016-09-20T00:00:00.000   \n",
       "3  2016-09-20T00:00:00.000                Burglary  2016-09-20T00:00:00.000   \n",
       "4  2016-09-20T00:00:00.000              Encampment  2016-09-20T00:00:00.000   \n",
       "\n",
       "  state  \n",
       "0    CA  \n",
       "1    CA  \n",
       "2    CA  \n",
       "3    CA  \n",
       "4    CA  "
      ]
     },
     "execution_count": 5,
     "metadata": {},
     "output_type": "execute_result"
    }
   ],
   "source": [
    "calls_for_service.head()"
   ]
  },
  {
   "cell_type": "markdown",
   "metadata": {},
   "source": [
    "Dataset has 2 million rows and 14 columns"
   ]
  },
  {
   "cell_type": "code",
   "execution_count": 7,
   "metadata": {
    "scrolled": true
   },
   "outputs": [
    {
     "name": "stdout",
     "output_type": "stream",
     "text": [
      "<class 'pandas.core.frame.DataFrame'>\n",
      "RangeIndex: 2277316 entries, 0 to 2277315\n",
      "Data columns (total 14 columns):\n",
      "address                    2277316 non-null object\n",
      "address_type               2277316 non-null object\n",
      "agency_id                  2277316 non-null int64\n",
      "call_date                  2277316 non-null object\n",
      "call_dttm                  2277316 non-null object\n",
      "call_time                  2277316 non-null datetime64[ns]\n",
      "city                       2215867 non-null object\n",
      "common_location            231429 non-null object\n",
      "crime_id                   2277316 non-null int64\n",
      "disposition                2277316 non-null object\n",
      "offense_date               2277316 non-null object\n",
      "original_crimetype_name    2277316 non-null object\n",
      "report_date                2277316 non-null object\n",
      "state                      2277316 non-null object\n",
      "dtypes: datetime64[ns](1), int64(2), object(11)\n",
      "memory usage: 243.2+ MB\n"
     ]
    }
   ],
   "source": [
    "calls_for_service.info(null_counts=True)"
   ]
  },
  {
   "cell_type": "code",
   "execution_count": 8,
   "metadata": {
    "scrolled": true
   },
   "outputs": [
    {
     "data": {
      "text/plain": [
       "address                          0\n",
       "address_type                     0\n",
       "agency_id                        0\n",
       "call_date                        0\n",
       "call_dttm                        0\n",
       "call_time                        0\n",
       "city                         61449\n",
       "common_location            2045887\n",
       "crime_id                         0\n",
       "disposition                      0\n",
       "offense_date                     0\n",
       "original_crimetype_name          0\n",
       "report_date                      0\n",
       "state                            0\n",
       "dtype: int64"
      ]
     },
     "execution_count": 8,
     "metadata": {},
     "output_type": "execute_result"
    }
   ],
   "source": [
    "#check for the null entries \n",
    "calls_for_service.isnull().sum()"
   ]
  },
  {
   "cell_type": "code",
   "execution_count": 9,
   "metadata": {},
   "outputs": [],
   "source": [
    "# drop column common_location as it has many null entries\n",
    "# drop unwanted columns call_date, call_time and agency_id\n",
    "calls_for_service = calls_for_service.drop(['common_location','call_time','call_date','agency_id'], axis=1)"
   ]
  },
  {
   "cell_type": "code",
   "execution_count": 10,
   "metadata": {},
   "outputs": [],
   "source": [
    "# drop rows with null City values\n",
    "calls_for_service['city'].replace('', np.nan, inplace=True)\n",
    "calls_for_service.dropna(subset=['city'], inplace=True)"
   ]
  },
  {
   "cell_type": "code",
   "execution_count": 11,
   "metadata": {
    "scrolled": true
   },
   "outputs": [
    {
     "data": {
      "text/plain": [
       "address                    0\n",
       "address_type               0\n",
       "call_dttm                  0\n",
       "city                       0\n",
       "crime_id                   0\n",
       "disposition                0\n",
       "offense_date               0\n",
       "original_crimetype_name    0\n",
       "report_date                0\n",
       "state                      0\n",
       "dtype: int64"
      ]
     },
     "execution_count": 11,
     "metadata": {},
     "output_type": "execute_result"
    }
   ],
   "source": [
    "# check the null values again after deleting the rows from city column\n",
    "calls_for_service.isnull().sum()"
   ]
  },
  {
   "cell_type": "markdown",
   "metadata": {},
   "source": [
    "Observe that there are no NULL values in city column anymore. \n",
    "\n",
    "After taking care of Null values, I would now want to clean the data by removing white spaces,special characters which is largly observed in original_crimetype_name column.\n",
    "\n",
    "Column Original_crimetype_name in above dataframe contain crimetype name and some radio codes. Radio codes are brevity codes used in voice communication by law enforcement. Later in this notebook, I will be merging radio codes excel file with above calls_for_service dataframe to replace the radio codes with it's more understandable meaning."
   ]
  },
  {
   "cell_type": "code",
   "execution_count": 12,
   "metadata": {},
   "outputs": [],
   "source": [
    "# change the datatype of call_dttm column\n",
    "calls_for_service['call_dttm'] = pd.to_datetime(calls_for_service['call_dttm'])\n"
   ]
  },
  {
   "cell_type": "code",
   "execution_count": 13,
   "metadata": {},
   "outputs": [],
   "source": [
    "# Remove the white spaces,special characters from the original crime types values\n",
    "calls_for_service['original_crimetype_name'].str.strip()\n",
    "calls_for_service['original_crimetype_name'] = calls_for_service['original_crimetype_name'].map(lambda x: x.lstrip('e`&[***~ +-\".,//\\\\0').rstrip(' ***.\"'))\n",
    "\n",
    "# Replace misspelled original crime types with correct values\n",
    "calls_for_service['original_crimetype_name'] = calls_for_service['original_crimetype_name'].replace(to_replace=['Yelinng','Yelling Male','Yeller','Yelling Man','Yelling Off Balcony','Yelling/aggressive'], value='Yelling', regex=True)\n",
    "calls_for_service['original_crimetype_name'] = calls_for_service['original_crimetype_name'].replace(to_replace=['Suspicious person'], value='Suspicious Person', regex=True)\n",
    "calls_for_service['original_crimetype_name'] = calls_for_service['original_crimetype_name'].replace(to_replace=['Yel Zone','Yel Zn','Yel Grn Zn','Yz','Yello Zone','Yellow Zne','Yz,gz,rz','Yzone','Yellow Zone,gz,rz','Yellow Zoneone'], value='Yellow Zone', regex=True)\n",
    "calls_for_service['original_crimetype_name'] = calls_for_service['original_crimetype_name'].replace(to_replace=['211cj Veh','211 Poss','Poss 211','211 Cold','211 Susp','211 Attempt','211veh Poss'], value='Robbery', regex=True)\n",
    "\n",
    "calls_for_service.loc[calls_for_service['original_crimetype_name'].str.contains('152'), 'original_crimetype_name'] = '152'\n",
    "calls_for_service.loc[calls_for_service['original_crimetype_name'].str.contains('1030'), 'original_crimetype_name'] = '10-30'\n",
    "calls_for_service.loc[calls_for_service['original_crimetype_name'].str.contains('207'), 'original_crimetype_name'] = '207'\n",
    "calls_for_service.loc[calls_for_service['original_crimetype_name'].str.contains('212'), 'original_crimetype_name'] = '212'\n",
    "calls_for_service.loc[calls_for_service['original_crimetype_name'].str.contains('7,2,46'), 'original_crimetype_name'] = '7.2.46'\n",
    "calls_for_service.loc[calls_for_service['original_crimetype_name'].str.contains('Wz'), 'original_crimetype_name'] = '7.2.27'\n",
    "calls_for_service.loc[calls_for_service['original_crimetype_name'].str.contains('22500e'), 'original_crimetype_name'] = '22500e'\n",
    "calls_for_service.loc[calls_for_service['original_crimetype_name'].str.contains('459'), 'original_crimetype_name'] = '459'\n",
    "calls_for_service.loc[calls_for_service['original_crimetype_name'].str.contains('240'), 'original_crimetype_name'] = '240'\n",
    "calls_for_service.loc[calls_for_service['original_crimetype_name'].str.contains('221'), 'original_crimetype_name'] = '221'\n",
    "calls_for_service.loc[calls_for_service['original_crimetype_name'].str.contains('261'), 'original_crimetype_name'] = '261'\n",
    "calls_for_service.loc[calls_for_service['original_crimetype_name'].str.contains('245'), 'original_crimetype_name'] = '245'\n",
    "calls_for_service.loc[calls_for_service['original_crimetype_name'].str.contains('Arson'), 'original_crimetype_name'] = 'Arson'\n",
    "calls_for_service.loc[calls_for_service['original_crimetype_name'].str.contains('Vandalism'),'original_crimetype_name'] = 'Vandalism'"
   ]
  },
  {
   "cell_type": "code",
   "execution_count": 14,
   "metadata": {},
   "outputs": [],
   "source": [
    "# Count the occurence of each crime type\n",
    "data_by_city_crime=calls_for_service.groupby(['original_crimetype_name']).size().reset_index(name='count')\n",
    "#data_by_city_crime"
   ]
  },
  {
   "cell_type": "code",
   "execution_count": 15,
   "metadata": {},
   "outputs": [
    {
     "data": {
      "text/plain": [
       "(2215819, 10)"
      ]
     },
     "execution_count": 15,
     "metadata": {},
     "output_type": "execute_result"
    }
   ],
   "source": [
    "# Replace Null values of original crimetype with Nan and then drop the rows having nan\n",
    "calls_for_service['original_crimetype_name'].replace('', np.nan, inplace=True)\n",
    "calls_for_service.dropna(subset=['original_crimetype_name'], inplace=True)\n",
    "calls_for_service.shape"
   ]
  },
  {
   "cell_type": "code",
   "execution_count": 16,
   "metadata": {
    "scrolled": true
   },
   "outputs": [
    {
     "name": "stdout",
     "output_type": "stream",
     "text": [
      "<class 'pandas.core.frame.DataFrame'>\n",
      "RangeIndex: 193 entries, 0 to 192\n",
      "Data columns (total 2 columns):\n",
      "original_crimetype_name    193 non-null object\n",
      "Meaning                    193 non-null object\n",
      "dtypes: object(2)\n",
      "memory usage: 3.1+ KB\n"
     ]
    }
   ],
   "source": [
    "# read another exel file which has radio codes \n",
    "radio_code_xl = pd.read_excel(\"Radio_Codes_2016.xlsx\")\n",
    "radio_code = pd.DataFrame(radio_code_xl)\n",
    "radio_code.info()"
   ]
  },
  {
   "cell_type": "code",
   "execution_count": 17,
   "metadata": {},
   "outputs": [],
   "source": [
    "# replace radio codes mentioned in original_crimetype_name column with radio codes meaning from radio code data frame\n",
    "calls_for_service['original_crimetype_name'] = calls_for_service['original_crimetype_name'].astype(str)\n",
    "radio_code['original_crimetype_name']= radio_code['original_crimetype_name'].astype(str)\n",
    "radio_code['Meaning']= radio_code['Meaning'].astype(str)\n",
    "calls_for_service['original_crimetype_name'] = calls_for_service['original_crimetype_name'].map(radio_code.set_index('original_crimetype_name')['Meaning']).fillna(calls_for_service['original_crimetype_name'])"
   ]
  },
  {
   "cell_type": "code",
   "execution_count": 18,
   "metadata": {
    "scrolled": true
   },
   "outputs": [
    {
     "name": "stdout",
     "output_type": "stream",
     "text": [
      "Stored 'calls_for_service' (DataFrame)\n"
     ]
    }
   ],
   "source": [
    "calls_for_service.head()\n",
    "# store cleaned dataframe to use in next step of the analysis\n",
    "%store calls_for_service"
   ]
  },
  {
   "cell_type": "markdown",
   "metadata": {},
   "source": [
    "Observe that original_crimetype_name in second row was 909 and is now been replaced by 'Interview a citizen' from radio code dataframe. This will now help to seggregate the crimes by city."
   ]
  },
  {
   "cell_type": "code",
   "execution_count": 19,
   "metadata": {},
   "outputs": [
    {
     "name": "stdout",
     "output_type": "stream",
     "text": [
      "Stored 'data_by_city' (DataFrame)\n"
     ]
    }
   ],
   "source": [
    "# count the crimes per city\n",
    "data_by_city=calls_for_service.groupby(['city']).size().reset_index(name='count')\n",
    "data_by_city\n",
    "# store dataframe to use in next step of the analysis\n",
    "%store data_by_city"
   ]
  },
  {
   "cell_type": "markdown",
   "metadata": {},
   "source": [
    "For personal interest, I want to know the top 25 crimes called for the service."
   ]
  },
  {
   "cell_type": "code",
   "execution_count": 20,
   "metadata": {
    "scrolled": true
   },
   "outputs": [
    {
     "data": {
      "text/html": [
       "<div>\n",
       "<style scoped>\n",
       "    .dataframe tbody tr th:only-of-type {\n",
       "        vertical-align: middle;\n",
       "    }\n",
       "\n",
       "    .dataframe tbody tr th {\n",
       "        vertical-align: top;\n",
       "    }\n",
       "\n",
       "    .dataframe thead th {\n",
       "        text-align: right;\n",
       "    }\n",
       "</style>\n",
       "<table border=\"1\" class=\"dataframe\">\n",
       "  <thead>\n",
       "    <tr style=\"text-align: right;\">\n",
       "      <th></th>\n",
       "      <th>original_crimetype_name</th>\n",
       "      <th>count</th>\n",
       "    </tr>\n",
       "  </thead>\n",
       "  <tbody>\n",
       "    <tr>\n",
       "      <th>11611</th>\n",
       "      <td>Passing Call</td>\n",
       "      <td>266356</td>\n",
       "    </tr>\n",
       "    <tr>\n",
       "      <th>15791</th>\n",
       "      <td>Traffic Stop</td>\n",
       "      <td>228445</td>\n",
       "    </tr>\n",
       "    <tr>\n",
       "      <th>15394</th>\n",
       "      <td>Suspicious Person</td>\n",
       "      <td>118402</td>\n",
       "    </tr>\n",
       "    <tr>\n",
       "      <th>9129</th>\n",
       "      <td>Homeless Complaint</td>\n",
       "      <td>110137</td>\n",
       "    </tr>\n",
       "    <tr>\n",
       "      <th>385</th>\n",
       "      <td>22500e</td>\n",
       "      <td>89489</td>\n",
       "    </tr>\n",
       "    <tr>\n",
       "      <th>10799</th>\n",
       "      <td>Muni Inspection</td>\n",
       "      <td>71511</td>\n",
       "    </tr>\n",
       "    <tr>\n",
       "      <th>5538</th>\n",
       "      <td>Audible Alarm</td>\n",
       "      <td>65857</td>\n",
       "    </tr>\n",
       "    <tr>\n",
       "      <th>17164</th>\n",
       "      <td>Well Being Check</td>\n",
       "      <td>55504</td>\n",
       "    </tr>\n",
       "    <tr>\n",
       "      <th>15396</th>\n",
       "      <td>Suspicious Vehicle</td>\n",
       "      <td>54078</td>\n",
       "    </tr>\n",
       "    <tr>\n",
       "      <th>15891</th>\n",
       "      <td>Trespasser</td>\n",
       "      <td>48328</td>\n",
       "    </tr>\n",
       "    <tr>\n",
       "      <th>8369</th>\n",
       "      <td>Fight No Weapon</td>\n",
       "      <td>48107</td>\n",
       "    </tr>\n",
       "    <tr>\n",
       "      <th>11066</th>\n",
       "      <td>Noise Nuisance</td>\n",
       "      <td>40160</td>\n",
       "    </tr>\n",
       "    <tr>\n",
       "      <th>5557</th>\n",
       "      <td>Auto Boost / Strip</td>\n",
       "      <td>37807</td>\n",
       "    </tr>\n",
       "    <tr>\n",
       "      <th>15786</th>\n",
       "      <td>Traf Violation Cite</td>\n",
       "      <td>34597</td>\n",
       "    </tr>\n",
       "    <tr>\n",
       "      <th>10588</th>\n",
       "      <td>Mentally Disturbed</td>\n",
       "      <td>30102</td>\n",
       "    </tr>\n",
       "    <tr>\n",
       "      <th>12096</th>\n",
       "      <td>Poss</td>\n",
       "      <td>30052</td>\n",
       "    </tr>\n",
       "    <tr>\n",
       "      <th>10577</th>\n",
       "      <td>Meet W/citizen</td>\n",
       "      <td>29073</td>\n",
       "    </tr>\n",
       "    <tr>\n",
       "      <th>5142</th>\n",
       "      <td>Assault / Battery</td>\n",
       "      <td>26640</td>\n",
       "    </tr>\n",
       "    <tr>\n",
       "      <th>11841</th>\n",
       "      <td>Petty Theft</td>\n",
       "      <td>26332</td>\n",
       "    </tr>\n",
       "    <tr>\n",
       "      <th>7816</th>\n",
       "      <td>Dw</td>\n",
       "      <td>25741</td>\n",
       "    </tr>\n",
       "    <tr>\n",
       "      <th>386</th>\n",
       "      <td>22500f</td>\n",
       "      <td>23781</td>\n",
       "    </tr>\n",
       "    <tr>\n",
       "      <th>6856</th>\n",
       "      <td>Complaint Unkn</td>\n",
       "      <td>22002</td>\n",
       "    </tr>\n",
       "    <tr>\n",
       "      <th>16318</th>\n",
       "      <td>Vandalism</td>\n",
       "      <td>16874</td>\n",
       "    </tr>\n",
       "    <tr>\n",
       "      <th>6183</th>\n",
       "      <td>Burglary</td>\n",
       "      <td>16461</td>\n",
       "    </tr>\n",
       "    <tr>\n",
       "      <th>7559</th>\n",
       "      <td>Drugs</td>\n",
       "      <td>16404</td>\n",
       "    </tr>\n",
       "  </tbody>\n",
       "</table>\n",
       "</div>"
      ],
      "text/plain": [
       "      original_crimetype_name   count\n",
       "11611            Passing Call  266356\n",
       "15791            Traffic Stop  228445\n",
       "15394       Suspicious Person  118402\n",
       "9129       Homeless Complaint  110137\n",
       "385                    22500e   89489\n",
       "10799         Muni Inspection   71511\n",
       "5538            Audible Alarm   65857\n",
       "17164        Well Being Check   55504\n",
       "15396      Suspicious Vehicle   54078\n",
       "15891              Trespasser   48328\n",
       "8369          Fight No Weapon   48107\n",
       "11066          Noise Nuisance   40160\n",
       "5557       Auto Boost / Strip   37807\n",
       "15786     Traf Violation Cite   34597\n",
       "10588      Mentally Disturbed   30102\n",
       "12096                    Poss   30052\n",
       "10577          Meet W/citizen   29073\n",
       "5142        Assault / Battery   26640\n",
       "11841             Petty Theft   26332\n",
       "7816                       Dw   25741\n",
       "386                    22500f   23781\n",
       "6856           Complaint Unkn   22002\n",
       "16318               Vandalism   16874\n",
       "6183                 Burglary   16461\n",
       "7559                    Drugs   16404"
      ]
     },
     "execution_count": 20,
     "metadata": {},
     "output_type": "execute_result"
    }
   ],
   "source": [
    "# display the top 25 crimes \n",
    "data_by_city_crime.sort_values('count',ascending=False).head(25)"
   ]
  },
  {
   "cell_type": "markdown",
   "metadata": {},
   "source": [
    "Although, I am interested only in violent and property crime data,it is good to know about the top 25 crimes for which SFPD receive calls.\n",
    "It can be observed that there are no violent crimes listed in top 25 crimes list ( which is a good sign though)."
   ]
  },
  {
   "cell_type": "code",
   "execution_count": 22,
   "metadata": {},
   "outputs": [
    {
     "name": "stdout",
     "output_type": "stream",
     "text": [
      "Stored 'calls_for_violent_crimes' (DataFrame)\n"
     ]
    }
   ],
   "source": [
    "calls_for_violent_crimes=calls_for_service.loc[calls_for_service['original_crimetype_name']\\\n",
    "                                                    .isin(['Homicide','Robbery','Strongarm Robbery','Aggravated Assault/ADW',\\\n",
    "                                                          'Rape/Sexual Assault','Sexual Assault Adult','Sexual Assault Juve',\\\n",
    "                                                          'Kidnapping','Stabbing'])]\n",
    "%store calls_for_violent_crimes"
   ]
  },
  {
   "cell_type": "code",
   "execution_count": 23,
   "metadata": {},
   "outputs": [
    {
     "name": "stdout",
     "output_type": "stream",
     "text": [
      "<class 'pandas.core.frame.DataFrame'>\n",
      "Int64Index: 10750 entries, 10 to 2277287\n",
      "Data columns (total 10 columns):\n",
      "address                    10750 non-null object\n",
      "address_type               10750 non-null object\n",
      "call_dttm                  10750 non-null datetime64[ns]\n",
      "city                       10750 non-null object\n",
      "crime_id                   10750 non-null int64\n",
      "disposition                10750 non-null object\n",
      "offense_date               10750 non-null object\n",
      "original_crimetype_name    10750 non-null object\n",
      "report_date                10750 non-null object\n",
      "state                      10750 non-null object\n",
      "dtypes: datetime64[ns](1), int64(1), object(8)\n",
      "memory usage: 923.8+ KB\n"
     ]
    }
   ],
   "source": [
    "calls_for_violent_crimes.info()"
   ]
  },
  {
   "cell_type": "code",
   "execution_count": 25,
   "metadata": {},
   "outputs": [
    {
     "data": {
      "text/html": [
       "<div>\n",
       "<style scoped>\n",
       "    .dataframe tbody tr th:only-of-type {\n",
       "        vertical-align: middle;\n",
       "    }\n",
       "\n",
       "    .dataframe tbody tr th {\n",
       "        vertical-align: top;\n",
       "    }\n",
       "\n",
       "    .dataframe thead th {\n",
       "        text-align: right;\n",
       "    }\n",
       "</style>\n",
       "<table border=\"1\" class=\"dataframe\">\n",
       "  <thead>\n",
       "    <tr style=\"text-align: right;\">\n",
       "      <th></th>\n",
       "      <th>original_crimetype_name</th>\n",
       "      <th>count</th>\n",
       "    </tr>\n",
       "  </thead>\n",
       "  <tbody>\n",
       "    <tr>\n",
       "      <th>8</th>\n",
       "      <td>Strongarm Robbery</td>\n",
       "      <td>4737</td>\n",
       "    </tr>\n",
       "    <tr>\n",
       "      <th>4</th>\n",
       "      <td>Robbery</td>\n",
       "      <td>2011</td>\n",
       "    </tr>\n",
       "    <tr>\n",
       "      <th>5</th>\n",
       "      <td>Sexual Assault Adult</td>\n",
       "      <td>1764</td>\n",
       "    </tr>\n",
       "    <tr>\n",
       "      <th>7</th>\n",
       "      <td>Stabbing</td>\n",
       "      <td>920</td>\n",
       "    </tr>\n",
       "    <tr>\n",
       "      <th>6</th>\n",
       "      <td>Sexual Assault Juve</td>\n",
       "      <td>696</td>\n",
       "    </tr>\n",
       "    <tr>\n",
       "      <th>2</th>\n",
       "      <td>Kidnapping</td>\n",
       "      <td>366</td>\n",
       "    </tr>\n",
       "    <tr>\n",
       "      <th>0</th>\n",
       "      <td>Aggravated Assault/ADW</td>\n",
       "      <td>148</td>\n",
       "    </tr>\n",
       "    <tr>\n",
       "      <th>3</th>\n",
       "      <td>Rape/Sexual Assault</td>\n",
       "      <td>101</td>\n",
       "    </tr>\n",
       "    <tr>\n",
       "      <th>1</th>\n",
       "      <td>Homicide</td>\n",
       "      <td>7</td>\n",
       "    </tr>\n",
       "  </tbody>\n",
       "</table>\n",
       "</div>"
      ],
      "text/plain": [
       "  original_crimetype_name  count\n",
       "8       Strongarm Robbery   4737\n",
       "4                 Robbery   2011\n",
       "5    Sexual Assault Adult   1764\n",
       "7                Stabbing    920\n",
       "6     Sexual Assault Juve    696\n",
       "2              Kidnapping    366\n",
       "0  Aggravated Assault/ADW    148\n",
       "3     Rape/Sexual Assault    101\n",
       "1                Homicide      7"
      ]
     },
     "execution_count": 25,
     "metadata": {},
     "output_type": "execute_result"
    }
   ],
   "source": [
    "data_by_violent_crime =calls_for_violent_crimes.groupby(['original_crimetype_name']).size().reset_index(name='count')\n",
    "data_by_violent_crime.sort_values('count',ascending=False).head(50)"
   ]
  },
  {
   "cell_type": "code",
   "execution_count": 26,
   "metadata": {},
   "outputs": [],
   "source": [
    "# Extract the calls made to report violent crime \n",
    "calls_for_violent_crimes= calls_for_service.loc[(calls_for_service['original_crimetype_name'] == 'Homicide')| (calls_for_service['original_crimetype_name'] == 'Robbery') | (calls_for_service['original_crimetype_name'] == 'Aggravated Assault/ADW') | (calls_for_service['original_crimetype_name'] == 'Rape/Sexual Assault')|(calls_for_service['original_crimetype_name'] == 'Sexual Assault Adult')|(calls_for_service['original_crimetype_name'] == 'Sexual Assault Juve')|(calls_for_service['original_crimetype_name'] == 'Kidnapping') ]\n"
   ]
  },
  {
   "cell_type": "code",
   "execution_count": 27,
   "metadata": {},
   "outputs": [
    {
     "name": "stdout",
     "output_type": "stream",
     "text": [
      "Stored 'calls_for_property_crimes' (DataFrame)\n"
     ]
    }
   ],
   "source": [
    "calls_for_property_crimes= calls_for_service.loc[calls_for_service['original_crimetype_name']\\\n",
    "                                                    .isin(['Petty Theft','Grand Theft','Burglary','Embezzlement',\\\n",
    "                                                          'Strongarm Robbery','Person breaking in',\\\n",
    "                                                           'Stolen vehicle','Broken Window','Vandalism','Extortion',\\\n",
    "                                                           'Auto Boost / Strip','Shoplifting'])]\n",
    "%store calls_for_property_crimes"
   ]
  },
  {
   "cell_type": "code",
   "execution_count": 28,
   "metadata": {},
   "outputs": [
    {
     "data": {
      "text/html": [
       "<div>\n",
       "<style scoped>\n",
       "    .dataframe tbody tr th:only-of-type {\n",
       "        vertical-align: middle;\n",
       "    }\n",
       "\n",
       "    .dataframe tbody tr th {\n",
       "        vertical-align: top;\n",
       "    }\n",
       "\n",
       "    .dataframe thead th {\n",
       "        text-align: right;\n",
       "    }\n",
       "</style>\n",
       "<table border=\"1\" class=\"dataframe\">\n",
       "  <thead>\n",
       "    <tr style=\"text-align: right;\">\n",
       "      <th></th>\n",
       "      <th>original_crimetype_name</th>\n",
       "      <th>count</th>\n",
       "    </tr>\n",
       "  </thead>\n",
       "  <tbody>\n",
       "    <tr>\n",
       "      <th>0</th>\n",
       "      <td>Auto Boost / Strip</td>\n",
       "      <td>37807</td>\n",
       "    </tr>\n",
       "    <tr>\n",
       "      <th>7</th>\n",
       "      <td>Petty Theft</td>\n",
       "      <td>30947</td>\n",
       "    </tr>\n",
       "    <tr>\n",
       "      <th>2</th>\n",
       "      <td>Burglary</td>\n",
       "      <td>17054</td>\n",
       "    </tr>\n",
       "    <tr>\n",
       "      <th>11</th>\n",
       "      <td>Vandalism</td>\n",
       "      <td>16874</td>\n",
       "    </tr>\n",
       "    <tr>\n",
       "      <th>10</th>\n",
       "      <td>Strongarm Robbery</td>\n",
       "      <td>4737</td>\n",
       "    </tr>\n",
       "    <tr>\n",
       "      <th>5</th>\n",
       "      <td>Grand Theft</td>\n",
       "      <td>3539</td>\n",
       "    </tr>\n",
       "    <tr>\n",
       "      <th>9</th>\n",
       "      <td>Stolen vehicle</td>\n",
       "      <td>176</td>\n",
       "    </tr>\n",
       "    <tr>\n",
       "      <th>1</th>\n",
       "      <td>Broken Window</td>\n",
       "      <td>160</td>\n",
       "    </tr>\n",
       "    <tr>\n",
       "      <th>6</th>\n",
       "      <td>Person breaking in</td>\n",
       "      <td>35</td>\n",
       "    </tr>\n",
       "    <tr>\n",
       "      <th>3</th>\n",
       "      <td>Embezzlement</td>\n",
       "      <td>6</td>\n",
       "    </tr>\n",
       "    <tr>\n",
       "      <th>8</th>\n",
       "      <td>Shoplifting</td>\n",
       "      <td>5</td>\n",
       "    </tr>\n",
       "    <tr>\n",
       "      <th>4</th>\n",
       "      <td>Extortion</td>\n",
       "      <td>4</td>\n",
       "    </tr>\n",
       "  </tbody>\n",
       "</table>\n",
       "</div>"
      ],
      "text/plain": [
       "   original_crimetype_name  count\n",
       "0       Auto Boost / Strip  37807\n",
       "7              Petty Theft  30947\n",
       "2                 Burglary  17054\n",
       "11               Vandalism  16874\n",
       "10       Strongarm Robbery   4737\n",
       "5              Grand Theft   3539\n",
       "9           Stolen vehicle    176\n",
       "1            Broken Window    160\n",
       "6       Person breaking in     35\n",
       "3             Embezzlement      6\n",
       "8              Shoplifting      5\n",
       "4                Extortion      4"
      ]
     },
     "execution_count": 28,
     "metadata": {},
     "output_type": "execute_result"
    }
   ],
   "source": [
    "#calls_for_property_crimes.info()\n",
    "data_by_prop_crime =calls_for_property_crimes.groupby(['original_crimetype_name']).size().reset_index(name='count')\n",
    "data_by_prop_crime.sort_values('count',ascending=False).head(50)"
   ]
  },
  {
   "cell_type": "markdown",
   "metadata": {},
   "source": [
    "After cleaning the dataset, next step would be to map and plot crime data to get better insite."
   ]
  },
  {
   "cell_type": "code",
   "execution_count": null,
   "metadata": {},
   "outputs": [],
   "source": [
    "\n"
   ]
  }
 ],
 "metadata": {
  "kernelspec": {
   "display_name": "Python 3",
   "language": "python",
   "name": "python3"
  },
  "language_info": {
   "codemirror_mode": {
    "name": "ipython",
    "version": 3
   },
   "file_extension": ".py",
   "mimetype": "text/x-python",
   "name": "python",
   "nbconvert_exporter": "python",
   "pygments_lexer": "ipython3",
   "version": "3.6.5"
  }
 },
 "nbformat": 4,
 "nbformat_minor": 2
}
